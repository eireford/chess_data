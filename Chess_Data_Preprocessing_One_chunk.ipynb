{
  "nbformat": 4,
  "nbformat_minor": 0,
  "metadata": {
    "colab": {
      "name": "Chess_Data_Preprocessing_One_chunk.ipynb",
      "provenance": [],
      "authorship_tag": "ABX9TyMyJ4GzSCsoasn3mdRhtpZA",
      "include_colab_link": true
    },
    "kernelspec": {
      "name": "python3",
      "display_name": "Python 3"
    },
    "language_info": {
      "name": "python"
    }
  },
  "cells": [
    {
      "cell_type": "markdown",
      "metadata": {
        "id": "view-in-github",
        "colab_type": "text"
      },
      "source": [
        "<a href=\"https://colab.research.google.com/github/eireford/chess_data/blob/main/Chess_Data_Preprocessing_One_chunk.ipynb\" target=\"_parent\"><img src=\"https://colab.research.google.com/assets/colab-badge.svg\" alt=\"Open In Colab\"/></a>"
      ]
    },
    {
      "cell_type": "markdown",
      "metadata": {
        "id": "oVxjGIPxkWYF"
      },
      "source": [
        "# Chess data Analysis by Eire Ford\n",
        "*Preprocessing One, Chunking*\n",
        "\n",
        "Many thanks to the **Chess Research Project** for providing the raw data.\n",
        "https://chess-research-project.readthedocs.io/en/latest/"
      ]
    },
    {
      "cell_type": "markdown",
      "metadata": {
        "id": "qdezc7mPiVTB"
      },
      "source": [
        "Download the source dataset"
      ]
    },
    {
      "cell_type": "code",
      "metadata": {
        "id": "qZcC9jf7NkxL"
      },
      "source": [
        "!gsutil cp gs://eire_ford_chess_data/chess-research-project/all.pgn.zip ./"
      ],
      "execution_count": null,
      "outputs": []
    },
    {
      "cell_type": "code",
      "metadata": {
        "id": "WXeN5-CtJKZS"
      },
      "source": [
        "!ls -lah"
      ],
      "execution_count": null,
      "outputs": []
    },
    {
      "cell_type": "code",
      "metadata": {
        "id": "fWa4IipDSdYB"
      },
      "source": [
        "!head -50 all.pgn"
      ],
      "execution_count": null,
      "outputs": []
    },
    {
      "cell_type": "code",
      "metadata": {
        "id": "OkyMD4MUN47Z"
      },
      "source": [
        "!unzip ./all.pgn.zip"
      ],
      "execution_count": null,
      "outputs": []
    },
    {
      "cell_type": "markdown",
      "metadata": {
        "id": "aNT0JoiGaLnS"
      },
      "source": [
        "Use dask to split the single large file into chunks."
      ]
    },
    {
      "cell_type": "code",
      "metadata": {
        "id": "jlXZuMs4JM5a"
      },
      "source": [
        "!pip install dask[dataframe] --upgrade"
      ],
      "execution_count": null,
      "outputs": []
    },
    {
      "cell_type": "code",
      "metadata": {
        "id": "i-4a5WANynRn"
      },
      "source": [
        "import dask.dataframe as dd"
      ],
      "execution_count": null,
      "outputs": []
    },
    {
      "cell_type": "code",
      "metadata": {
        "id": "ZKwMWRrPzLPn"
      },
      "source": [
        "all = dd.read_table('all.pgn',sep='\\n',encoding='ISO-8859-1')"
      ],
      "execution_count": null,
      "outputs": []
    },
    {
      "cell_type": "code",
      "metadata": {
        "id": "twurOMUmL0Id"
      },
      "source": [
        "all.to_csv('all_chunks')"
      ],
      "execution_count": null,
      "outputs": []
    },
    {
      "cell_type": "code",
      "metadata": {
        "id": "bcKd-JKzaqCH"
      },
      "source": [
        "!ls -la ./all_chunks"
      ],
      "execution_count": null,
      "outputs": []
    },
    {
      "cell_type": "markdown",
      "metadata": {
        "id": "5DlzdztAptbN"
      },
      "source": [
        "Upload to Google storage"
      ]
    },
    {
      "cell_type": "code",
      "metadata": {
        "id": "YaKBNPW0r_qo"
      },
      "source": [
        "from google.colab import auth\n",
        "auth.authenticate_user()\n",
        "!gcloud init"
      ],
      "execution_count": null,
      "outputs": []
    },
    {
      "cell_type": "markdown",
      "metadata": {
        "id": "s2SDSFpSi3pY"
      },
      "source": [
        "Upload the directory and the individual parts."
      ]
    },
    {
      "cell_type": "code",
      "metadata": {
        "id": "-hPkDEHOf-0K"
      },
      "source": [
        "!gsutil -m cp -r ./all_chunks gs://eire_ford_chess_data/"
      ],
      "execution_count": null,
      "outputs": []
    },
    {
      "cell_type": "markdown",
      "metadata": {
        "id": "_p_0IvtajYf8"
      },
      "source": [
        "Upload the gzipped tar file of all the parts."
      ]
    },
    {
      "cell_type": "code",
      "metadata": {
        "id": "hEF_CNrsUux0"
      },
      "source": [
        "!tar -czvf all_chunks.tar.gz ./all_chunks"
      ],
      "execution_count": null,
      "outputs": []
    },
    {
      "cell_type": "code",
      "metadata": {
        "id": "1OmPgyHcazrh"
      },
      "source": [
        "!gsutil -m cp ./all_chunks.tar.gz gs://eire_ford_chess_data/"
      ],
      "execution_count": null,
      "outputs": []
    },
    {
      "cell_type": "code",
      "metadata": {
        "id": "DcItLv0Qk2qU"
      },
      "source": [
        "!gsutil ls -lah  gs://eire_ford_chess_data/all_chunks*"
      ],
      "execution_count": null,
      "outputs": []
    }
  ]
}